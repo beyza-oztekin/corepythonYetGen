{
 "cells": [
  {
   "cell_type": "markdown",
   "metadata": {
    "id": "-My6RWLrhXIq"
   },
   "source": [
    "# Problem 1\n",
    "Sözlükleri kullanarak bir telefon rehberi yazın. Bu rehberde kullanıcıya kimin telefonunu görüntülemek istediğini sorun ve kullanıcının girdiği isme göre o kişinin telefon numarasını yazdırın. Proje sonunda elde edeceğiniz çıktı  şuna benzer olmalı:\n",
    "\n",
    "\n",
    "Lütfen numarasını öğrenmek istediğiniz kişinin adını girin: Ahmet\n",
    "\n",
    "Ahmet isimli kişinin numarası şu şekildedir: 0532 678 13 19"
   ]
  },
  {
   "cell_type": "code",
   "execution_count": null,
   "metadata": {
    "id": "LHIQEhchhXIu"
   },
   "outputs": [
    {
     "name": "stdout",
     "output_type": "stream",
     "text": [
      "Ahmet isimli kişinin numarası şu şekildedir: 0532 678 13 19\n"
     ]
    }
   ],
   "source": [
    "# 1.Problemin Çözümünü Buraya Yazınız\n",
    "\n",
    "telefon_rehberi = {\n",
    "    \"ahmet\": \"0532 678 13 19\",\n",
    "    \"mehmet\": \"05xx xxx xx xx\",\n",
    "    \"ayşe\": \"055x xxx xx xx\",\n",
    "    \"fatma\": \"050x xxx xx xx\"\n",
    "}\n",
    "\n",
    "isim = input(\"Lütfen numarasını öğrenmek istediğiniz kişinin adını girin: \")\n",
    "\n",
    "if isim in telefon_rehberi:\n",
    "    print(f\"{isim} isimli kişinin numarası şu şekildedir: {telefon_rehberi[isim]}\")\n",
    "else:\n",
    "    print(f\"Maalesef {isim} isimli kişi rehberde bulunmamaktadır.\")\n"
   ]
  },
  {
   "cell_type": "markdown",
   "metadata": {
    "id": "rlgfjEi7hXIv"
   },
   "source": [
    "# Problem 2\n",
    "Sözlükleri kullanarak bir şirket çalışanları indeksi oluşturun. Bu isim indeksinde kişilerin isimleri key, kişilerin  memleket, yaş ve görev bilgileri value olmalıdır. Burada kullanacağımız value değerleri liste olmalıdır.\n",
    "\n",
    "\n",
    "Daha sonra bir isim sorgulama ekranı gibi kullanıcıya kimin bilgilerini görüntülemek istediğini \n",
    "sorun ve sorgulanan kişinin ekranda gösterilmesini sağlayın. Proje sonunda elde edeceğiniz çıktı şu şekilde olmalı:\n",
    "\n",
    "\n",
    "Lütfen bilgilerini görüntülemek istediğiniz çalışanın ismini girin: Mehmet Yağız\n",
    "\n",
    "Mehmet Yağız= Memleket: Adana Yaş: 40 Görev: Direktör"
   ]
  },
  {
   "cell_type": "code",
   "execution_count": 1,
   "metadata": {
    "id": "O09zrrs0hXIv"
   },
   "outputs": [
    {
     "name": "stdout",
     "output_type": "stream",
     "text": [
      "mehmet yağız = Memleket: Adana Yaş: 40 Görev: direktör\n"
     ]
    }
   ],
   "source": [
    "# 2.Problemin Çözümünü Buraya Yazınız\n",
    "calisanlar = {\n",
    "    \"mehmet yağız\": [\"Adana\", 40, \"direktör\"],\n",
    "    \"beyza xxx\": [\"İstanbul\", 23, \"yönetici\"],\n",
    "    \"ahmet xxx\": [\"Ankara\", 35, \"mühendis\"],\n",
    "    \"fatma xxx\" : [\"İzmir\", 28, \"muhasebeci\"]\n",
    "}\n",
    "\n",
    "isim = input(\"Lütfen bilgilerini görüntülemek istediğiniz çalışanın ismini girin: \")\n",
    "\n",
    "if isim in calisanlar:\n",
    "    memleket, yas, gorev = calisanlar[isim]\n",
    "    print(f\"{isim} = Memleket: {memleket} Yaş: {yas} Görev: {gorev}\")\n",
    "\n",
    "else:\n",
    "    print(f\"Maalesef {isim} isimli kişi rehberde bulunmamaktadır.\")"
   ]
  },
  {
   "cell_type": "markdown",
   "metadata": {
    "id": "G67ztXG-hXIw"
   },
   "source": [
    "# Problem 3\n",
    "\n",
    "3 öğrenciden oluşan bir öğrenci not sözlüğü oluşturun. Bu sözlükte öğrencilerin notları value olarak bir listede toplansın.\n",
    "\n",
    "Kullanıcıya hangi öğrencinin notlarını görmek istediğini sorun. Öğrencinin notu görüntülendiğinde program sonunda şöyle bir çıktı elde etmelisiniz:\n",
    "\n",
    "```\n",
    "Lütfen notlarını görmek istediğiniz öğrencinin adını girin: Mehmet\n",
    "\n",
    "Mehmet isimli öğrencinin      1.Sınav Notu:72\n",
    "                              2.Sınav Notu:66\n",
    "                              3.Sınav Notu:48\n",
    "Not Ortalaması: 62.0\n"
   ]
  },
  {
   "cell_type": "code",
   "execution_count": 3,
   "metadata": {
    "id": "TXQ_fuCHhXIw"
   },
   "outputs": [
    {
     "name": "stdout",
     "output_type": "stream",
     "text": [
      "mehmet isimli öğrencinin 1. Sınav Notu: 72\n",
      "2. Sınav Notu: 66\n",
      "3. Sınav Notu: 48\n",
      "Not Ortalaması: 62.0\n"
     ]
    }
   ],
   "source": [
    "# 3.Problemin Çözümünü Buraya Yazınız\n",
    "ogrenci_notlari = {\n",
    "    \"mehmet\": [72, 66, 48],\n",
    "    \"beyza\": [85, 90, 78],\n",
    "    \"ahmet\": [70, 75, 80]\n",
    "}\n",
    ",\n",
    "isim = input(\"Lütfen notlarını görmek istediğiniz öğrencinin adını girin: \")\n",
    "\n",
    "if isim in ogrenci_notlari:\n",
    "    notlar = ogrenci_notlari[isim]\n",
    "    print(f\"{isim} isimli öğrencinin 1. Sınav Notu: {notlar[0]}\")\n",
    "    print(f\"2. Sınav Notu: {notlar[1]}\")\n",
    "    print(f\"3. Sınav Notu: {notlar[2]}\")\n",
    "    not_ortalamasi = sum(notlar) / len(notlar)\n",
    "    print(f\"Not Ortalaması: {not_ortalamasi:.1f}\")\n",
    "else:\n",
    "    print(f\"Maalesef {isim} isimli öğrenci rehberde bulunmamaktadır.\")\n"
   ]
  },
  {
   "cell_type": "markdown",
   "metadata": {
    "id": "oel6A5WFhXIw"
   },
   "source": [
    "# Problem 4"
   ]
  },
  {
   "cell_type": "code",
   "execution_count": 5,
   "metadata": {
    "id": "jVRdspCrhXIx"
   },
   "outputs": [
    {
     "name": "stdout",
     "output_type": "stream",
     "text": [
      "4\n",
      "Bmw Mazda\n",
      "['Bmw', 'Mercedes', 'Opel', 'Toyota']\n",
      "Opel\n",
      "['Bmw', 'Mercedes', 'Opel']\n",
      "['Bmw', 'Mercedes', 'Toyota', 'Renault']\n",
      "['Bmw', 'Mercedes', 'Toyota', 'Renault', 'Audi', 'Nissan']\n",
      "['Bmw', 'Mercedes', 'Toyota', 'Renault', 'Audi']\n",
      "['Audi', 'Renault', 'Toyota', 'Mercedes', 'Bmw']\n",
      "['Yiğit Bilgi', 2010, [70, 60, 70]]\n",
      "['Sena Turan', 1999, [80, 80, 70]]\n",
      "['Ahmet Turan', 1998, [80, 70, 90]]\n",
      "['Ali', 'Yağmur', 'Hakan', 'Deniz', 'Cenk']\n",
      "['Sena', 'Ali', 'Yağmur', 'Hakan', 'Deniz', 'Cenk']\n",
      "['Sena', 'Ali', 'Yağmur', 'Hakan', 'Cenk']\n",
      "True\n",
      "['Cenk', 'Hakan', 'Yağmur', 'Ali', 'Sena']\n",
      "['Ali', 'Cenk', 'Hakan', 'Sena', 'Yağmur']\n",
      "[1987, 1998, 1998, 2000]\n",
      "['Chevrolet', 'Dacia']\n",
      "2\n",
      "[]\n",
      "['bmw', 'toyota', 'opel']\n"
     ]
    }
   ],
   "source": [
    "# 1-  \"Bmw, Mercedes, Opel, Mazda\" elemanlarına sahip bir liste oluşturunuz.\n",
    "araba_markalari = [\"Bmw\", \"Mercedes\", \"Opel\", \"Mazda\"]\n",
    "\n",
    "# 2-  Liste Kaç elemanlıdır ?\n",
    "liste_uzunlugu = len(araba_markalari)\n",
    "print(liste_uzunlugu)  \n",
    "\n",
    "# 3-  Listenin ilk ve son elemanı nedir ?\n",
    "ilk_eleman = araba_markalari[0]\n",
    "son_eleman = araba_markalari[-1]\n",
    "print(ilk_eleman, son_eleman)  \n",
    "\n",
    "# 4-  Mazda değerini Toyota ile değiştirin.\n",
    "araba_markalari[-1] = \"Toyota\"\n",
    "print(araba_markalari)  \n",
    "\n",
    "# 5-  Listenin -2 indeksindeki değer nedir ?\n",
    "ikinci_sondan = araba_markalari[-2]\n",
    "print(ikinci_sondan)  \n",
    "\n",
    "# 6-  Listenin ilk 3 elemanını alın.\n",
    "ilk_uc = araba_markalari[:3]\n",
    "print(ilk_uc)  \n",
    "\n",
    "# 7-  Listenin son 2 elemanı yerine \"Toyota\" ve \"Renault\" değerlerini ekleyin.\n",
    "araba_markalari[-2:] = [\"Toyota\", \"Renault\"]\n",
    "print(araba_markalari)  \n",
    "\n",
    "# 8-  Listenin üzerine \"Audi\" ve \"Nissan\" değerlerini ekleyin.\n",
    "araba_markalari.extend([\"Audi\", \"Nissan\"])\n",
    "print(araba_markalari)  \n",
    "# 9- Listenin son elemanını silin.\n",
    "araba_markalari.pop()\n",
    "print(araba_markalari)  \n",
    "\n",
    "# 10- Liste elemanlarını tersten yazdırınız.\n",
    "ters_liste = araba_markalari[::-1]\n",
    "print(ters_liste)  \n",
    "\n",
    "# 11- Aşağıdaki verileri bir liste içinde saklayınız. \n",
    "\n",
    "      # studentA: Yiğit Bilgi 2010, (70,60,70)\n",
    "      # studentB: Sena Turan  1999, (80,80,70)\n",
    "      # studentC: Ahmet Turan 1998, (80,70,90) \n",
    "studentA = [\"Yiğit Bilgi\", 2010, [70, 60, 70]]\n",
    "studentB = [\"Sena Turan\", 1999, [80, 80, 70]]\n",
    "studentC = [\"Ahmet Turan\", 1998, [80, 70, 90]]\n",
    "ogrenciler = [studentA, studentB, studentC]\n",
    "\n",
    "# 12- Liste elemanlarını ekrana yazdırınız.\n",
    "for ogrenci in ogrenciler:\n",
    "    print(ogrenci)\n",
    "\n",
    "\n",
    "\n",
    "\n",
    "  \n",
    "names = ['Ali','Yağmur','Hakan','Deniz']\n",
    "years = [1998, 2000, 1998, 1987]\n",
    "\n",
    "# 13-  \"Cenk\" ismini listenin sonuna ekleyiniz.\n",
    "names.append(\"Cenk\")\n",
    "print(names)  \n",
    "# 14-  \"Sena\" değerini listenin başına ekleyiniz.\n",
    "names.insert(0, \"Sena\")\n",
    "print(names) \n",
    "# 15-  \"Deniz\" ismini listeden siliniz.\n",
    "names.remove(\"Deniz\")\n",
    "print(names)  \n",
    "\n",
    "# 16-  \"Ali\" listenin bir elemanı mıdır ?\n",
    "ali_var_mi = \"Ali\" in names\n",
    "print(ali_var_mi)  \n",
    "# 17-  Liste elemanlarını ters çevirin.\n",
    "names.reverse()\n",
    "print(names)  \n",
    "\n",
    "# 18-  Liste elemanlarını alfabetik olarak sıralayınız.\n",
    "names.sort()\n",
    "print(names)  \n",
    "\n",
    "# 19-  years listesini rakamsal büyüklüğe göre sıralayınız.\n",
    "years.sort()\n",
    "print(years) \n",
    "\n",
    "# 20-  str = \"Chevrolet,Dacia\" karakter dizisini listeye çeviriniz.\n",
    "str = \"Chevrolet,Dacia\"\n",
    "araba_markalari = str.split(\",\")\n",
    "print(araba_markalari) \n",
    "\n",
    "# 21- years dizisinde kaç tane 1998 değeri vardır ?\n",
    "count_1998 = years.count(1998)\n",
    "print(count_1998)  \n",
    "\n",
    "# 22- years dizisinin tüm elemanlarını siliniz.\n",
    "years.clear()\n",
    "print(years)  \n",
    "\n",
    "# 23- Kullanıcıdan alacağınız 3 tane marka bilgisini bir listede saklayınız.\n",
    "\n",
    "markalar = []\n",
    "for _ in range(3):\n",
    "    marka = input(\"Lütfen bir marka girin: \")\n",
    "    markalar.append(marka)\n",
    "print(markalar)\n"
   ]
  }
 ],
 "metadata": {
  "colab": {
   "provenance": []
  },
  "kernelspec": {
   "display_name": "Python 3",
   "language": "python",
   "name": "python3"
  },
  "language_info": {
   "codemirror_mode": {
    "name": "ipython",
    "version": 3
   },
   "file_extension": ".py",
   "mimetype": "text/x-python",
   "name": "python",
   "nbconvert_exporter": "python",
   "pygments_lexer": "ipython3",
   "version": "3.13.2"
  },
  "orig_nbformat": 4
 },
 "nbformat": 4,
 "nbformat_minor": 0
}
