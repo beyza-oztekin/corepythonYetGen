{
 "cells": [
  {
   "cell_type": "markdown",
   "metadata": {},
   "source": [
    "# Problem 1\n",
    "`ogrenciler` adında bir sözlük oluşturunuz. Kullanıcıdan döngü yardımıyla 3 öğrenci için veri girmesini isteyerek öğrencilerin sırasıyla okul numarası, isim, soy isim, telefon numarası ve doğum tarihi bilgilerini alınız. Aldığınız öğrenci bilgilerini yine aynı döngü yardımıyla `ogrenciler` adındaki sözlükte saklayınız. Daha sonra öğrenci bilgilerinin bulunduğu sözlük yapısını ekrana bastırınız.\n",
    "\n"
   ]
  },
  {
   "cell_type": "code",
   "execution_count": 4,
   "metadata": {},
   "outputs": [
    {
     "name": "stdout",
     "output_type": "stream",
     "text": [
      "\n",
      "1. Öğrenci için bilgileri giriniz:\n",
      "\n",
      "2. Öğrenci için bilgileri giriniz:\n",
      "\n",
      "3. Öğrenci için bilgileri giriniz:\n",
      "\n",
      "Öğrenci Bilgileri:\n",
      "Okul Numarası:  \n",
      "İsim:  \n",
      "Soy İsim:  \n",
      "Telefon Numarası:  \n",
      "Doğum Tarihi:  \n",
      "\n"
     ]
    }
   ],
   "source": [
    "# 1.Problemin Çözümünü Buraya Yazınız\n",
    "ogrenciler = {}\n",
    "\n",
    "for i in range(1, 4):\n",
    "    print(f\"\\n{i}. Öğrenci için bilgileri giriniz:\")\n",
    "    okul_numarasi = input(\"Okul Numarası: \")\n",
    "    isim = input(\"İsim: \")\n",
    "    soy_isim = input(\"Soy İsim: \")\n",
    "    telefon_numarasi = input(\"Telefon Numarası: \")\n",
    "    dogum_tarihi = input(\"Doğum Tarihi: \")\n",
    "    ogrenciler[okul_numarasi] = {\n",
    "        \"İsim\": isim,\n",
    "        \"Soy İsim\": soy_isim,\n",
    "        \"Telefon Numarası\": telefon_numarasi,\n",
    "        \"Doğum Tarihi\": dogum_tarihi\n",
    "    }\n",
    "print(\"\\nÖğrenci Bilgileri:\")\n",
    "for okul_numarasi, bilgiler in ogrenciler.items():\n",
    "    print(f\"Okul Numarası: {okul_numarasi}\")\n",
    "    for bilgi_adi, bilgi_degeri in bilgiler.items():\n",
    "        print(f\"{bilgi_adi}: {bilgi_degeri}\")\n",
    "    print()\n"
   ]
  },
  {
   "cell_type": "markdown",
   "metadata": {},
   "source": [
    "# Problem 2\n",
    "\n",
    "### a - Biraz ısınarak başlayalım!\n",
    "\n",
    "```\n",
    "numbers = [5,10,10,15,15,15,20,20,20,20]\n",
    "```\n",
    "\n",
    "Yukarıda `numbers` adında 10 elemanlı bir liste verilmiştir. Bu listenin her elemanını kontrol eden ve tekrar eden elemanları bir kez olacak şekilde başka bir listeye kopyalayan bir program yazınız. Son olarak oluşturduğunuz listeyi ekrana bastırınız.\n",
    "\n",
    "\n",
    "\n",
    "\n",
    "```\n",
    ">Output\n",
    "[5, 10, 15, 20]\n",
    "```\n"
   ]
  },
  {
   "cell_type": "code",
   "execution_count": 5,
   "metadata": {},
   "outputs": [
    {
     "name": "stdout",
     "output_type": "stream",
     "text": [
      "[5, 10, 15, 20]\n"
     ]
    }
   ],
   "source": [
    "# 2.Problemin a Şıkkının Çözümünü Buraya Yazınız\n",
    "numbers = [5, 10, 10, 15, 15, 15, 20, 20, 20, 20]\n",
    "\n",
    "unique_numbers = []\n",
    "\n",
    "for number in numbers:\n",
    "    if number not in unique_numbers:\n",
    "        unique_numbers.append(number)\n",
    "\n",
    "print(unique_numbers)\n"
   ]
  },
  {
   "cell_type": "markdown",
   "metadata": {},
   "source": [
    "### 🌶️ b) Hadi işi biraz daha zorlaştıralım! \n",
    "\n",
    "\n",
    "Şimdiyse senden `numbers` isimli listedeki tekrar eden elemanları `repeatNumbers` adındaki listeye; tekrar etmeyen elemanları `uniqueNumbers`adındaki listeye kopyalayan yazmanı ve listeleri ekrana bastırmanı bekliyoruz\n",
    "\n",
    "```\n",
    ">Output\n",
    "Tekrar Eden Elemanlar: [10, 10, 15, 15, 15, 20, 20, 20, 20]\n",
    "Tekrar Etmeyen Elemanlar: [5]\n",
    "```"
   ]
  },
  {
   "cell_type": "code",
   "execution_count": 6,
   "metadata": {},
   "outputs": [
    {
     "name": "stdout",
     "output_type": "stream",
     "text": [
      "Tekrar Eden Elemanlar: [10, 10, 15, 15, 15, 20, 20, 20, 20]\n",
      "Tekrar Etmeyen Elemanlar: [5]\n"
     ]
    }
   ],
   "source": [
    "# 2.Problemin b Şıkkının Çözümünü Buraya Yazınız\n",
    "numbers = [5, 10, 10, 15, 15, 15, 20, 20, 20, 20]\n",
    "\n",
    "repeatNumbers = []\n",
    "\n",
    "uniqueNumbers = []\n",
    "\n",
    "for number in numbers:\n",
    "    if numbers.count(number) > 1:\n",
    "        repeatNumbers.append(number)\n",
    "    elif number not in uniqueNumbers:\n",
    "        uniqueNumbers.append(number)\n",
    "\n",
    "print(f\"Tekrar Eden Elemanlar: {repeatNumbers}\")\n",
    "print(f\"Tekrar Etmeyen Elemanlar: {uniqueNumbers}\")\n"
   ]
  },
  {
   "cell_type": "markdown",
   "metadata": {},
   "source": [
    "# Problem 3\n",
    "sn1 = {1,2,3,4,5}\n",
    "\n",
    "sn2 = {4,5,6,7,8}\n",
    "\n",
    " Verilen 2 adet küme için kesişimlerini, farklarını ve birleşimlerini bulunuz. "
   ]
  },
  {
   "cell_type": "code",
   "execution_count": 7,
   "metadata": {},
   "outputs": [
    {
     "name": "stdout",
     "output_type": "stream",
     "text": [
      "Kesişim: {4, 5}\n",
      "sn1 fark sn2: {1, 2, 3}\n",
      "sn2 fark sn1: {8, 6, 7}\n",
      "Birleşim: {1, 2, 3, 4, 5, 6, 7, 8}\n"
     ]
    }
   ],
   "source": [
    "# 3.Problemin Çözümünü Buraya Yazınız\n",
    "sn1 = {1, 2, 3, 4, 5}\n",
    "sn2 = {4, 5, 6, 7, 8}\n",
    "\n",
    "kesisim = sn1.intersection(sn2)\n",
    "print(f\"Kesişim: {kesisim}\")\n",
    "fark_sn1 = sn1.difference(sn2)\n",
    "print(f\"sn1 fark sn2: {fark_sn1}\")\n",
    "fark_sn2 = sn2.difference(sn1)\n",
    "print(f\"sn2 fark sn1: {fark_sn2}\")\n",
    "birlesim = sn1.union(sn2)\n",
    "print(f\"Birleşim: {birlesim}\")\n"
   ]
  },
  {
   "cell_type": "markdown",
   "metadata": {},
   "source": [
    "# Problem 4\n",
    "\n",
    "Buradaki işlemlerimizin tamamı stringler içindir. Aşağıda verilecek olan metodlar için kendinizin örnek yaratması gerekmektedir. \n",
    "\n",
    "Örneğin `upper` için `string` değişkeni oluştururken` k = \"BAC\"` şeklinde oluşturmayınız. Bunun yerine k değişkenini `k = \"bac`\" şeklinde oluşturmanız `upper` metodundaki değişimi görebilmeniz için daha iyi olacaktır.\n",
    "\n",
    "Bütün metodlardaki değişimin gözle görülür şekilde değişimi beklenmektedir.\n",
    "\n",
    "\n",
    "1- capitalize(), lower(), upper(), swapcase(), title(), replace()\n",
    "\n",
    "2- endswith(), startswith(), find(), index(), count()\n",
    "\n",
    "3- split(), strip(), join(), islower(), isalpha(), isdigit()\n",
    "\n",
    "\n",
    "Yukarıdaki `string` metodlarındaki değişimleri görebildiğimiz bir program yazınız.\n"
   ]
  },
  {
   "cell_type": "code",
   "execution_count": 8,
   "metadata": {},
   "outputs": [
    {
     "name": "stdout",
     "output_type": "stream",
     "text": [
      "Merhaba dünya\n",
      "merhaba dünya\n",
      "MERHABA DÜNYA\n",
      "MERHABA DÜNYA\n",
      "Merhaba Dünya\n",
      "merhaba evren\n",
      "True\n",
      "True\n",
      "7\n",
      "7\n",
      "3\n",
      "['  Python', 'Java', 'C++  ']\n",
      "Python, Java, C++\n",
      "Python, Java, C++\n",
      "True\n",
      "True\n",
      "True\n"
     ]
    }
   ],
   "source": [
    "# 4.Problemin Çözümünü Buraya Yazınız\n",
    "s = \"merhaba dünya\"\n",
    "\n",
    "print(s.capitalize())  \n",
    "print(s.lower())  \n",
    "print(s.upper())  \n",
    "print(s.swapcase())  \n",
    "print(s.title()) \n",
    "print(s.replace(\"dünya\", \"evren\"))  \n",
    "\n",
    "\n",
    "t = \"Python programlama dili\"\n",
    "\n",
    "print(t.endswith(\"dili\"))  \n",
    "print(t.startswith(\"Python\"))  \n",
    "print(t.find(\"programlama\")) \n",
    "print(t.index(\"programlama\")) \n",
    "print(t.count(\"a\"))  \n",
    "\n",
    "\n",
    "u = \"  Python, Java, C++  \"\n",
    "\n",
    "print(u.split(\", \"))  \n",
    "print(u.strip())  \n",
    "\n",
    "languages = [\"Python\", \"Java\", \"C++\"]\n",
    "\n",
    "print(\", \".join(languages))  \n",
    "\n",
    "v = \"python\"\n",
    "print(v.islower())  \n",
    "print(v.isalpha())  \n",
    "\n",
    "w = \"12345\"\n",
    "print(w.isdigit())  "
   ]
  }
 ],
 "metadata": {
  "kernelspec": {
   "display_name": "Python 3",
   "language": "python",
   "name": "python3"
  },
  "language_info": {
   "codemirror_mode": {
    "name": "ipython",
    "version": 3
   },
   "file_extension": ".py",
   "mimetype": "text/x-python",
   "name": "python",
   "nbconvert_exporter": "python",
   "pygments_lexer": "ipython3",
   "version": "3.13.2"
  },
  "orig_nbformat": 4
 },
 "nbformat": 4,
 "nbformat_minor": 2
}
