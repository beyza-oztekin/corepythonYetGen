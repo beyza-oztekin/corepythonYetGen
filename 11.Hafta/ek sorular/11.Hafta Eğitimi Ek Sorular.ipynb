{
 "cells": [
  {
   "attachments": {},
   "cell_type": "markdown",
   "metadata": {},
   "source": [
    "# Problem 1 \n",
    "Seaborn kütüphanesi içerisinden Titanic veri setini tanımlayınız."
   ]
  },
  {
   "cell_type": "code",
   "execution_count": null,
   "metadata": {},
   "outputs": [],
   "source": [
    "import seaborn as sns\n",
    "titanic = sns.load_dataset(\"titanic\")\n",
    "print(titanic.head())\n"
   ]
  },
  {
   "attachments": {},
   "cell_type": "markdown",
   "metadata": {},
   "source": [
    "# Problem 2\n",
    "Titanic veri setindeki kadın ve erkek yolcuların sayısını bulunuz."
   ]
  },
  {
   "cell_type": "code",
   "execution_count": null,
   "metadata": {},
   "outputs": [],
   "source": [
    "# 2.Problemin Çözümünü Buraya Yazınız\n",
    "df = pd.read_csv(\"titanic.csv\")\n",
    "kadın_sayısı = df[df[\"Sex\"] == \"female\"].shape[0]\n",
    "erkek_sayısı = df[df[\"Sex\"] == \"male\"].shape[0]\n",
    "print(\"Kadın:\", kadın_sayısı)\n",
    "print(\"Erkek:\", erkek_sayısı)\n",
    "\n"
   ]
  },
  {
   "attachments": {},
   "cell_type": "markdown",
   "metadata": {},
   "source": [
    "# Problem 3\n",
    "Her bir sutuna ait unique değerlerin sayısını bulunuz."
   ]
  },
  {
   "cell_type": "code",
   "execution_count": null,
   "metadata": {},
   "outputs": [],
   "source": [
    "# 3.Problemin Çözümünü Buraya Yazınız\n",
    "import pandas as pd\n",
    "df = pd.DataFrame({\n",
    "    'a': [1, 2, 2, 3, 4],\n",
    "    'b': [5, 5, 6, 7, 7],\n",
    "    'c': [8, 9, 9, 10, 10]\n",
    "})\n",
    "\n",
    "unique_counts = df.nunique()\n",
    "print(unique_counts)\n"
   ]
  },
  {
   "attachments": {},
   "cell_type": "markdown",
   "metadata": {},
   "source": [
    "# Problem 4\n",
    "pclass değişkeninin unique değerlerinin sayısını bulunuz."
   ]
  },
  {
   "cell_type": "code",
   "execution_count": null,
   "metadata": {},
   "outputs": [],
   "source": [
    "# 4.Problemin Çözümünü Buraya Yazınız\n",
    "import seaborn as sns\n",
    "veri = sns.load_dataset(\"titanic\")\n",
    "print(veri[\"pclass\"].nunique())\n",
    "\n"
   ]
  },
  {
   "attachments": {},
   "cell_type": "markdown",
   "metadata": {},
   "source": [
    "# Problem 5\n",
    "pclass ve parch değişkenlerinin unique değerlerinin sayısını bulunuz"
   ]
  },
  {
   "cell_type": "code",
   "execution_count": null,
   "metadata": {},
   "outputs": [],
   "source": [
    "# 5.Problemin Çözümünü Buraya Yazınız\n",
    "import pandas as pd\n",
    "df = pd.DataFrame({'pclass': [1, 2, 3, 1, 2, 3, 3],\n",
    "                   'parch': [0, 1, 2, 1, 0, 3, 2]})\n",
    "pclass_unique = df['pclass'].nunique()\n",
    "parch_unique = df['parch'].nunique()\n",
    "\n",
    "print(\"pclass unique değer sayısı:\", pclass_unique)\n",
    "print(\"parch unique değer sayısı:\", parch_unique)\n"
   ]
  },
  {
   "attachments": {},
   "cell_type": "markdown",
   "metadata": {},
   "source": [
    "# Problem 6\n",
    "embarked değişkeninin tipini kontrol ediniz. Tipini category olarak değiştiriniz ve tekrar kontrol ediniz."
   ]
  },
  {
   "cell_type": "code",
   "execution_count": null,
   "metadata": {},
   "outputs": [],
   "source": [
    "# 6.Problemin Çözümünü Buraya Yazınız\n",
    "print(df[\"embarked\"].dtype)\n",
    "df[\"embarked\"] = df[\"embarked\"].astype(\"category\")\n",
    "print(df[\"embarked\"].dtype)\n"
   ]
  },
  {
   "attachments": {},
   "cell_type": "markdown",
   "metadata": {},
   "source": [
    "# Problem 7\n",
    "embarked değeri C olanların tüm bilgilerini gösteriniz."
   ]
  },
  {
   "cell_type": "code",
   "execution_count": null,
   "metadata": {},
   "outputs": [],
   "source": [
    "# 7.Problemin Çözümünü Buraya Yazınız\n",
    "import seaborn as sns\n",
    "veri = sns.load_dataset(\"titanic\")\n",
    "print(veri[veri[\"embarked\"] == \"C\"])\n"
   ]
  },
  {
   "attachments": {},
   "cell_type": "markdown",
   "metadata": {},
   "source": [
    "# Problem 8\n",
    "embarked değeri S olmayanların tüm bilgelerini gösteriniz."
   ]
  },
  {
   "cell_type": "code",
   "execution_count": null,
   "metadata": {},
   "outputs": [],
   "source": [
    "# 8.Problemin Çözümünü Buraya Yazınız\n",
    "import seaborn as sns\n",
    "veri = sns.load_dataset(\"titanic\")\n",
    "sonuc = veri[veri[\"embarked\"] != \"S\"]\n",
    "print(sonuc)\n"
   ]
  },
  {
   "attachments": {},
   "cell_type": "markdown",
   "metadata": {},
   "source": [
    "# Problem 9\n",
    "\n",
    "Yaşı 30 dan küçük ve kadın olan yolcuların tüm bilgilerini gösteriniz."
   ]
  },
  {
   "cell_type": "code",
   "execution_count": null,
   "metadata": {},
   "outputs": [],
   "source": [
    "# 9.Problemin Çözümünü Buraya Yazınız\n",
    "import seaborn as sns\n",
    "veri = sns.load_dataset(\"titanic\")\n",
    "sonuc = veri[(veri[\"age\"] < 30) & (veri[\"sex\"] == \"female\")]\n",
    "print(sonuc)\n"
   ]
  },
  {
   "attachments": {},
   "cell_type": "markdown",
   "metadata": {},
   "source": [
    "# Problem 10\n",
    "Fare'i 500'den büyük veya yaşı 70’den büyük yolcuların bilgilerini gösteriniz"
   ]
  },
  {
   "cell_type": "code",
   "execution_count": null,
   "metadata": {},
   "outputs": [],
   "source": [
    "# 10.Problemin Çözümünü Buraya Yazınız\n",
    "import seaborn as sns\n",
    "veri = sns.load_dataset(\"titanic\")\n",
    "sonuc = veri[(veri[\"fare\"] > 500) | (veri[\"age\"] > 70)]\n",
    "print(sonuc)\n",
    "\n",
    "\n"
   ]
  },
  {
   "attachments": {},
   "cell_type": "markdown",
   "metadata": {},
   "source": [
    "# Problem 11\n",
    "Her bir değişkendeki boş değerlerin toplamını bulunuz."
   ]
  },
  {
   "cell_type": "code",
   "execution_count": null,
   "metadata": {},
   "outputs": [],
   "source": [
    "# 11.Problemin Çözümünü Buraya Yazınız\n",
    "import seaborn as sns\n",
    "veri = sns.load_dataset(\"titanic\")\n",
    "print(veri.isnull().sum())\n"
   ]
  }
 ],
 "metadata": {
  "kernelspec": {
   "display_name": "Python 3",
   "language": "python",
   "name": "python3"
  },
  "language_info": {
   "codemirror_mode": {
    "name": "ipython",
    "version": 3
   },
   "file_extension": ".py",
   "mimetype": "text/x-python",
   "name": "python",
   "nbconvert_exporter": "python",
   "pygments_lexer": "ipython3",
   "version": "3.13.2"
  },
  "orig_nbformat": 4,
  "vscode": {
   "interpreter": {
    "hash": "5026d2d6e7aaaaba093def813beadff083d8733e4a511af01735cbabd156995d"
   }
  }
 },
 "nbformat": 4,
 "nbformat_minor": 2
}
