{
 "cells": [
  {
   "cell_type": "markdown",
   "metadata": {
    "id": "hpyeSHc7K1aN"
   },
   "source": [
    "# Problem 1\n",
    "Bir YetGenli yeni aldığı bahçesinin etrafına çit çevirmek istiyor. Bahçenin etrafını çit ile çevirmek için gerekli çit uzunluğunu ve bahçenin alanını hesaplayan fonksiyonu yazınız."
   ]
  },
  {
   "cell_type": "code",
   "execution_count": null,
   "metadata": {
    "id": "HfCgs5BHK1aT"
   },
   "outputs": [],
   "source": [
    "\n",
    "uzunluk = float(input(\"Bahçenin uzunluğunu girin (metre): \"))\n",
    "genislik = float(input(\"Bahçenin genişliğini girin (metre): \"))\n",
    "\n",
    "cevre = 2 * (uzunluk + genislik)\n",
    "print(\"Bahçenin çevresi:\", cevre, \"metre\")\n",
    "\n",
    "alan = uzunluk * genislik\n",
    "print(\"Bahçenin alanı:\", alan, \"metrekare\")\n"
   ]
  },
  {
   "cell_type": "markdown",
   "metadata": {
    "id": "L90q8kwQK1aW"
   },
   "source": [
    "# Problem 2\n",
    "Kendisine gönderilen 2 sayı arasındaki tüm asal sayıları bulan fonksiyonu yazınız."
   ]
  },
  {
   "cell_type": "code",
   "execution_count": 1,
   "metadata": {
    "id": "VxbxzQXdK1aX"
   },
   "outputs": [
    {
     "name": "stdout",
     "output_type": "stream",
     "text": [
      "11\n",
      "13\n",
      "17\n",
      "19\n",
      "23\n",
      "29\n",
      "31\n",
      "37\n",
      "41\n",
      "43\n",
      "47\n"
     ]
    }
   ],
   "source": [
    "baslangic = 10\n",
    "bitis = 50\n",
    "\n",
    "for sayi in range(baslangic, bitis + 1):\n",
    "    if sayi > 1:  \n",
    "        asal_mi = True\n",
    "        for i in range(2, sayi):  \n",
    "            if sayi % i == 0:\n",
    "                asal_mi = False\n",
    "                break \n",
    "        if asal_mi:\n",
    "            print(sayi)\n"
   ]
  },
  {
   "cell_type": "markdown",
   "metadata": {
    "id": "OqbcX2FPK1aY"
   },
   "source": [
    "# Problem 3\n",
    "YetGen liderlerinin kurdukları girişim unicorn oluyor. YetGen liderleri iş arkadaşlarının alacağı ücretlerini hesaplamak için bir fonksiyon yazdılar. Bu fonksiyonu kullanarak, YetGen liderlerinin iş arkadaşlarına verecekleri ücretleri hesaplayınız.\n",
    "\n",
    "Ücret hesaplanması çalışma saatine bağlıdır. Bunun için kullanıcıdan çalışma saati bilgisinn alın. Sonrasında yapılacak ödemenin hesaplanacağı computePay() adlı bir fonksiyon oluşturun. Bu fonksiyonun içinde işlemler yapın. Çalışma saati 40 ve altındaysa saat başına ücret 10 TL’dir. 40 saatin üstünde çalışıldıysa saat başına ücret 15 TL sayılmaktadır.\n",
    "\n",
    "```\n",
    "Test etmek için 30 saat değerini giriniz,  sonuç 300 TL çıkmalı, \n",
    "ikincil test olarak 50 değerini giriniz,  sonuç 750 TL çıkmalı.\n",
    "```"
   ]
  },
  {
   "cell_type": "code",
   "execution_count": 2,
   "metadata": {
    "id": "Uhg6Gcc1K1aZ"
   },
   "outputs": [
    {
     "name": "stdout",
     "output_type": "stream",
     "text": [
      "Toplam ücret: 300 TL\n"
     ]
    }
   ],
   "source": [
    "\n",
    "saat = int(input(\"Çalışma saatini giriniz: \"))\n",
    "\n",
    "if saat <= 40:\n",
    "    ucret = saat * 10\n",
    "else:\n",
    "    ucret = 40 * 10 + (saat - 40) * 15\n",
    "\n",
    "print(\"Toplam ücret:\", ucret, \"TL\")\n"
   ]
  },
  {
   "cell_type": "markdown",
   "metadata": {
    "id": "V0BeBR90K1aZ"
   },
   "source": [
    "# Problem 4\n",
    "YetGenliler zirveye gitmek için toplanıyor. Zirveye gitmek için kiraladıkları araçlar 4'er kişiliktir. Gelecek kişi sayısı için Airtable üzerinde form açılıyor. Gelecek kişi sayısını alıp dört kişilik araçlara bölüp kalan kişi sayısını döndüren bir fonksiyon yazınız."
   ]
  },
  {
   "cell_type": "code",
   "execution_count": 7,
   "metadata": {
    "id": "AC8x-EQlK1aa"
   },
   "outputs": [
    {
     "name": "stdout",
     "output_type": "stream",
     "text": [
      "Araçlara sığmayan kişi sayısı: 2\n"
     ]
    }
   ],
   "source": [
    "\n",
    "kisi_sayisi = int(input(\"Gelecek kişi sayısını giriniz: \"))\n",
    "kalan = kisi_sayisi % 4\n",
    "print(\"Araçlara sığmayan kişi sayısı:\", kalan)\n"
   ]
  },
  {
   "cell_type": "markdown",
   "metadata": {
    "id": "dWcDwEVjK1ab"
   },
   "source": [
    "# Problem 5\n",
    "sayiTopla() adında bir fonksiyon yazın. sayiTopla() fonksiyonu girilen sayıları toplayarak yazdırmasını sağlayan bir fonksiyon yazınız.\n",
    "\n",
    "Örneğin sayiTopla(1,2,3,4,5) yazdığımızda 15 çıktısını almalıyız. sayiTopla(1,2,3,4,5,6,7,8,9,10) yazdığımızda 55 çıktısını almalıyız."
   ]
  },
  {
   "cell_type": "code",
   "execution_count": 9,
   "metadata": {
    "id": "fmCZcLM2K1ad"
   },
   "outputs": [
    {
     "name": "stdout",
     "output_type": "stream",
     "text": [
      "Toplam: 15\n"
     ]
    }
   ],
   "source": [
    "\n",
    "sayi_girisi = input(\"Toplamak istediğiniz sayıları giriniz (örnek: 1,2,3,4,5): \")\n",
    "\n",
    "sayilar = sayi_girisi.split(\",\")\n",
    "\n",
    "toplam = 0\n",
    "for s in sayilar:\n",
    "    toplam += int(s)\n",
    "\n",
    "print(\"Toplam:\", toplam)\n"
   ]
  },
  {
   "cell_type": "markdown",
   "metadata": {
    "id": "kd9edMkoK1ae"
   },
   "source": [
    "# Problem 6\n",
    "\n",
    "[(\"xxx\",1),(\"xxx\",2),(\"xxx\",9),(\"xxx\",3), (\"xxx\",1),(\"xxx\",13),(\"xxx\",26),(\"xxx\",4)] listesi içerisinde verilen elemanların her birini tuple içindeki 2. Elemana göre sıralayınız. \n",
    "\n"
   ]
  },
  {
   "cell_type": "code",
   "execution_count": 10,
   "metadata": {
    "id": "Jk4tgaH3K1af"
   },
   "outputs": [
    {
     "name": "stdout",
     "output_type": "stream",
     "text": [
      "[('xxx', 1), ('xxx', 1), ('xxx', 2), ('xxx', 3), ('xxx', 4), ('xxx', 9), ('xxx', 13), ('xxx', 26)]\n"
     ]
    }
   ],
   "source": [
    "\n",
    "liste = [(\"xxx\", 1), (\"xxx\", 2), (\"xxx\", 9), (\"xxx\", 3), \n",
    "         (\"xxx\", 1), (\"xxx\", 13), (\"xxx\", 26), (\"xxx\", 4)]\n",
    "\n",
    "liste.sort(key=lambda x: x[1])\n",
    "print(liste)\n"
   ]
  },
  {
   "cell_type": "markdown",
   "metadata": {
    "id": "V0yKbDraK1af"
   },
   "source": [
    "# Problem 7\n",
    "List comprehension kullanarak 1'den 100'e kadar olan sayılardan sadece çift sayıları bir listeye atmayı yapmayı çalışın."
   ]
  },
  {
   "cell_type": "code",
   "execution_count": 11,
   "metadata": {
    "id": "iHosmISJK1ag"
   },
   "outputs": [
    {
     "name": "stdout",
     "output_type": "stream",
     "text": [
      "[2, 4, 6, 8, 10, 12, 14, 16, 18, 20, 22, 24, 26, 28, 30, 32, 34, 36, 38, 40, 42, 44, 46, 48, 50, 52, 54, 56, 58, 60, 62, 64, 66, 68, 70, 72, 74, 76, 78, 80, 82, 84, 86, 88, 90, 92, 94, 96, 98, 100]\n"
     ]
    }
   ],
   "source": [
    "cift_sayilar = [i for i in range(1, 101) if i % 2 == 0]\n",
    "print(cift_sayilar)\n"
   ]
  }
 ],
 "metadata": {
  "colab": {
   "provenance": []
  },
  "kernelspec": {
   "display_name": "Python 3",
   "language": "python",
   "name": "python3"
  },
  "language_info": {
   "codemirror_mode": {
    "name": "ipython",
    "version": 3
   },
   "file_extension": ".py",
   "mimetype": "text/x-python",
   "name": "python",
   "nbconvert_exporter": "python",
   "pygments_lexer": "ipython3",
   "version": "3.13.2"
  },
  "orig_nbformat": 4
 },
 "nbformat": 4,
 "nbformat_minor": 0
}
